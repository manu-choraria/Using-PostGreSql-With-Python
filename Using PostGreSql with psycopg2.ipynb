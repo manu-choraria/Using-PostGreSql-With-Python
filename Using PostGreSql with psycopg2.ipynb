# To establish Connection
import pandas as pd
import psycopg2
connection=psycopg2.connect(database='Sample 
Database',user='postgres',password='manan143',host='localhost',port='5432')
print("Database opened successfully!!")

# To create Table
cursor=connection.cursor()
cursor.execute("CREATE TABLE books(book_id INT PRIMARY KEY NOT 
NULL,book_name TEXT NOT NULL,stock INT NOT NULL);")
cursor.execute("INSERT INTO books (book_id,book_name,stock) 
VALUES(1200,'the current times',20)")
cursor.execute("INSERT INTO books (book_id,book_name,stock) 
VALUES(600,'the best one',60)")
cursor.execute("INSERT INTO books (book_id,book_name,stock) 
VALUES(1800,'the happy times',40)")
print("Table is created successfully!!")
df=pd.read_sql_query('select book_id,book_name from books',connection)
print(df)
connection.commit()
connection.close()

# To Create DataFrame From SQL Table
sql_query=pd.read_sql('select * from "Attendance"',connection)
df=pd.DataFrame(sql_query,columns=['Name','Enrollment number','Number of 
present','Number of absent'])
print(df)
